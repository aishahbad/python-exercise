{
 "cells": [
  {
   "cell_type": "code",
   "execution_count": 1,
   "metadata": {},
   "outputs": [],
   "source": [
    "#Q1-S1: Create function to takes in a number\n",
    "#Q1-S2: number % 2 ==1 to be return as True, False otherwise\n",
    "#Q2-S1: Create function to takes in a number\n",
    "#Q2-S2: number % 2 ==1 to be return as \"X\", \"O\" otherwise\n",
    "#Q3-S1: Create function to takes in a number\n",
    "#Q3-S2: number inputted in function to be read as a range \n",
    "#Q3-S3: number % 2 ==1 to be return as \"X\", \"O\" otherwise Loop all numbers in the range to return X or O\n",
    "#Q3-S4: all X and O need to be in same line (use + \"\" operator)\n",
    "#Q4-S1: create another if else where number % 2 ==1 to return \"O\", else \"X\"\n"
   ]
  },
  {
   "cell_type": "code",
   "execution_count": 14,
   "metadata": {},
   "outputs": [],
   "source": [
    "#Question 1\n",
    "def is_odd(number):\n",
    "    result = number % 2 ==1\n",
    "    return(result)\n",
    "    "
   ]
  },
  {
   "cell_type": "code",
   "execution_count": 26,
   "metadata": {},
   "outputs": [
    {
     "data": {
      "text/plain": [
       "True"
      ]
     },
     "execution_count": 26,
     "metadata": {},
     "output_type": "execute_result"
    }
   ],
   "source": [
    "is_odd(3)"
   ]
  },
  {
   "cell_type": "code",
   "execution_count": 27,
   "metadata": {},
   "outputs": [],
   "source": [
    "#Question 2\n",
    "def pattern(number):\n",
    "    result = number % 2\n",
    "    if (result==1):\n",
    "        return (\"X\")\n",
    "    else:\n",
    "        return (\"O\")"
   ]
  },
  {
   "cell_type": "code",
   "execution_count": 28,
   "metadata": {},
   "outputs": [
    {
     "data": {
      "text/plain": [
       "'X'"
      ]
     },
     "execution_count": 28,
     "metadata": {},
     "output_type": "execute_result"
    }
   ],
   "source": [
    "pattern(3)"
   ]
  },
  {
   "cell_type": "code",
   "execution_count": 16,
   "metadata": {},
   "outputs": [],
   "source": [
    "#Question 3\n",
    "def gen_pattern(number):\n",
    "    \n",
    "    numlist = range(number)\n",
    "    \n",
    "    pattern_list = \"\"\n",
    "    \n",
    "    for n in numlist:\n",
    "        result = pattern(n)\n",
    "        pattern_list = pattern_list + result + \" \"\n",
    "        \n",
    "    print(pattern_list)\n",
    "     \n",
    "\n",
    "    "
   ]
  },
  {
   "cell_type": "code",
   "execution_count": 43,
   "metadata": {},
   "outputs": [
    {
     "name": "stdout",
     "output_type": "stream",
     "text": [
      "O X O X O \n"
     ]
    }
   ],
   "source": [
    "gen_pattern(5)"
   ]
  },
  {
   "cell_type": "code",
   "execution_count": 17,
   "metadata": {},
   "outputs": [],
   "source": [
    "#Question 4\n",
    "def pattern_alt(number):\n",
    "    result = number % 2\n",
    "    if (result==1):\n",
    "        return(\"O\")\n",
    "    else:\n",
    "        return(\"X\")"
   ]
  },
  {
   "cell_type": "code",
   "execution_count": 29,
   "metadata": {},
   "outputs": [],
   "source": [
    "def gen_pattern_alt(number):\n",
    "    \n",
    "    numlist = range(number)\n",
    "    \n",
    "    pattern_list = \"\"\n",
    "    \n",
    "    for n in numlist:\n",
    "        result = pattern_alt(n)\n",
    "        pattern_list = pattern_list + result + \" \"\n",
    "        \n",
    "    print(pattern_list)\n",
    "     "
   ]
  },
  {
   "cell_type": "code",
   "execution_count": 19,
   "metadata": {},
   "outputs": [
    {
     "name": "stdout",
     "output_type": "stream",
     "text": [
      "X O X \n"
     ]
    }
   ],
   "source": [
    "gen_pattern_alt(3)"
   ]
  },
  {
   "cell_type": "code",
   "execution_count": 30,
   "metadata": {},
   "outputs": [],
   "source": [
    "def box_pattern(number):\n",
    "    new_numlist = range(number)\n",
    "    for n in new_numlist:\n",
    "        if (n % 2==1):\n",
    "            gen_pattern(number)\n",
    "        else:\n",
    "            gen_pattern_alt(number)"
   ]
  },
  {
   "cell_type": "code",
   "execution_count": 31,
   "metadata": {},
   "outputs": [
    {
     "name": "stdout",
     "output_type": "stream",
     "text": [
      "X O X \n",
      "O X O \n",
      "X O X \n"
     ]
    }
   ],
   "source": [
    "box_pattern(3)"
   ]
  },
  {
   "cell_type": "code",
   "execution_count": null,
   "metadata": {},
   "outputs": [],
   "source": []
  }
 ],
 "metadata": {
  "kernelspec": {
   "display_name": "base",
   "language": "python",
   "name": "python3"
  },
  "language_info": {
   "codemirror_mode": {
    "name": "ipython",
    "version": 3
   },
   "file_extension": ".py",
   "mimetype": "text/x-python",
   "name": "python",
   "nbconvert_exporter": "python",
   "pygments_lexer": "ipython3",
   "version": "3.11.7"
  }
 },
 "nbformat": 4,
 "nbformat_minor": 2
}

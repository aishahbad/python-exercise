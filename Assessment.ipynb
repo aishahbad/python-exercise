{
 "cells": [
  {
   "cell_type": "code",
   "execution_count": 1,
   "metadata": {},
   "outputs": [],
   "source": [
    "#Q1-S1: Create function to takes in a number\n",
    "#Q1-S2: number % 2 ==1 to be return as True, False otherwise\n",
    "#Q2-S1: Create function to takes in a number\n",
    "#Q2-S2: number % 2 ==1 to be return as \"X\", \"O\" otherwise\n",
    "#Q3-S1: Create function to takes in a number\n",
    "#Q3-S2: number inputted in function to be read as a range \n",
    "#Q3-S3: number % 2 ==1 to be return as \"X\", \"O\" otherwise Loop all numbers in the range to return X or O\n",
    "#Q3-S4: all X and O need to be in same line (use + \"\" operator)\n",
    "#Q4-S1: create another if else where number % 2 ==1 to return \"O\", else \"X\"\n"
   ]
  },
  {
   "cell_type": "code",
   "execution_count": 14,
   "metadata": {},
   "outputs": [],
   "source": [
    "#Question 1\n",
    "def is_odd(number):\n",
    "    result = number % 2 ==1\n",
    "    return(result)\n",
    "    "
   ]
  },
  {
   "cell_type": "code",
   "execution_count": 26,
   "metadata": {},
   "outputs": [
    {
     "data": {
      "text/plain": [
       "True"
      ]
     },
     "execution_count": 26,
     "metadata": {},
     "output_type": "execute_result"
    }
   ],
   "source": [
    "is_odd(3)"
   ]
  },
  {
   "cell_type": "code",
   "execution_count": 27,
   "metadata": {},
   "outputs": [],
   "source": [
    "#Question 2\n",
    "def pattern(number):\n",
    "    result = number % 2\n",
    "    if (result==1):\n",
    "        return (\"X\")\n",
    "    else:\n",
    "        return (\"O\")"
   ]
  },
  {
   "cell_type": "code",
   "execution_count": 28,
   "metadata": {},
   "outputs": [
    {
     "data": {
      "text/plain": [
       "'X'"
      ]
     },
     "execution_count": 28,
     "metadata": {},
     "output_type": "execute_result"
    }
   ],
   "source": [
    "pattern(3)"
   ]
  },
  {
   "cell_type": "code",
   "execution_count": 16,
   "metadata": {},
   "outputs": [],
   "source": [
    "#Question 3\n",
    "def gen_pattern(number):\n",
    "    \n",
    "    numlist = range(number)\n",
    "    \n",
    "    pattern_list = \"\"\n",
    "    \n",
    "    for n in numlist:\n",
    "        result = pattern(n)\n",
    "        pattern_list = pattern_list + result + \" \"\n",
    "        \n",
    "    print(pattern_list)\n",
    "     \n",
    "\n",
    "    "
   ]
  },
  {
   "cell_type": "code",
   "execution_count": 43,
   "metadata": {},
   "outputs": [
    {
     "name": "stdout",
     "output_type": "stream",
     "text": [
      "O X O X O \n"
     ]
    }
   ],
   "source": [
    "gen_pattern(5)"
   ]
  },
  {
   "cell_type": "code",
   "execution_count": 2,
   "metadata": {},
   "outputs": [],
   "source": [
    "#Question 4\n",
    "def pattern_alt(number):\n",
    "    result = number % 2\n",
    "    if (result==1):\n",
    "        return(\"O\")\n",
    "    else:\n",
    "        return(\"X\")"
   ]
  },
  {
   "cell_type": "code",
   "execution_count": 3,
   "metadata": {},
   "outputs": [
    {
     "data": {
      "text/plain": [
       "'X'"
      ]
     },
     "execution_count": 3,
     "metadata": {},
     "output_type": "execute_result"
    }
   ],
   "source": [
    "pattern_alt(4)"
   ]
  },
  {
   "cell_type": "code",
   "execution_count": 10,
   "metadata": {},
   "outputs": [],
   "source": [
    "def gen_pattern_alt(number):\n",
    "    \n",
    "    numlist = range(number)\n",
    "    \n",
    "    pattern_list = \"\"\n",
    "    \n",
    "    for n in numlist:\n",
    "        result = pattern_alt(n)\n",
    "        pattern_list = pattern_list + result + \" \"\n",
    "        print(n)\n",
    "    print(pattern_list)\n",
    "    \n",
    "     "
   ]
  },
  {
   "cell_type": "code",
   "execution_count": 11,
   "metadata": {},
   "outputs": [
    {
     "name": "stdout",
     "output_type": "stream",
     "text": [
      "0\n",
      "1\n",
      "2\n",
      "3\n",
      "4\n",
      "X O X O X \n"
     ]
    }
   ],
   "source": [
    "gen_pattern_alt(5)"
   ]
  },
  {
   "cell_type": "code",
   "execution_count": 30,
   "metadata": {},
   "outputs": [],
   "source": [
    "def box_pattern(number):\n",
    "    new_numlist = range(number)\n",
    "    for n in new_numlist:\n",
    "        if (n % 2==1):\n",
    "            gen_pattern(number)\n",
    "        else:\n",
    "            gen_pattern_alt(number)"
   ]
  },
  {
   "cell_type": "code",
   "execution_count": 31,
   "metadata": {},
   "outputs": [
    {
     "name": "stdout",
     "output_type": "stream",
     "text": [
      "X O X \n",
      "O X O \n",
      "X O X \n"
     ]
    }
   ],
   "source": [
    "box_pattern(3)"
   ]
  },
  {
   "cell_type": "code",
   "execution_count": 14,
   "metadata": {},
   "outputs": [],
   "source": [
    "def box_pattern2(number):\n",
    "    new_numlist = range(number)\n",
    "    for n in new_numlist:\n",
    "        if (n % 2==1):\n",
    "            print(n)\n",
    "        else:\n",
    "            print(n)"
   ]
  },
  {
   "cell_type": "code",
   "execution_count": 15,
   "metadata": {},
   "outputs": [
    {
     "name": "stdout",
     "output_type": "stream",
     "text": [
      "0\n",
      "1\n",
      "2\n",
      "3\n",
      "4\n"
     ]
    }
   ],
   "source": [
    "box_pattern2(5)"
   ]
  },
  {
   "cell_type": "code",
   "execution_count": 25,
   "metadata": {},
   "outputs": [],
   "source": [
    "def gen_pattern_alt(number):\n",
    "    \n",
    "    numlist = range(number)\n",
    "    \n",
    "    pattern_list = \"\"\n",
    "    \n",
    "    for n in numlist:\n",
    "        result = str(n)\n",
    "        pattern_list = pattern_list + result + \" \"\n",
    "       \n",
    "    print(pattern_list)"
   ]
  },
  {
   "cell_type": "code",
   "execution_count": 26,
   "metadata": {},
   "outputs": [],
   "source": [
    "def gen_pattern(number):\n",
    "    \n",
    "    numlist = range(number)\n",
    "    \n",
    "    pattern_list = \"\"\n",
    "    \n",
    "    for n in numlist:\n",
    "        result = str(n)\n",
    "        pattern_list = pattern_list + result + \" \"\n",
    "       \n",
    "    print(pattern_list)"
   ]
  },
  {
   "cell_type": "code",
   "execution_count": 27,
   "metadata": {},
   "outputs": [],
   "source": [
    "def box_pattern(number):\n",
    "    new_numlist = range(number)\n",
    "    for n in new_numlist:\n",
    "        if (n % 2==1):\n",
    "            gen_pattern(number)\n",
    "        else:\n",
    "            gen_pattern_alt(number)"
   ]
  },
  {
   "cell_type": "code",
   "execution_count": 28,
   "metadata": {},
   "outputs": [
    {
     "name": "stdout",
     "output_type": "stream",
     "text": [
      "0 1 2 3 4 \n",
      "0 1 2 3 4 \n",
      "0 1 2 3 4 \n",
      "0 1 2 3 4 \n",
      "0 1 2 3 4 \n"
     ]
    }
   ],
   "source": [
    "box_pattern(5)"
   ]
  },
  {
   "cell_type": "code",
   "execution_count": 29,
   "metadata": {},
   "outputs": [],
   "source": [
    "#bonus question\n",
    "# define function that can take a number\n",
    "# range of number ^ 2\n",
    "# print all range number as X except if it is the median of number ^2"
   ]
  },
  {
   "cell_type": "code",
   "execution_count": 53,
   "metadata": {},
   "outputs": [],
   "source": [
    "def trial(number):\n",
    "   \n",
    "    numlist = range(1, number**2 + 1)\n",
    "    \n",
    "    pattern_list = \"\"\n",
    "    \n",
    "    for n in numlist:\n",
    "        result = str(n)\n",
    "        pattern_list = pattern_list + result + \" \"\n",
    "       \n",
    "    print(pattern_list)\n"
   ]
  },
  {
   "cell_type": "code",
   "execution_count": 54,
   "metadata": {},
   "outputs": [
    {
     "name": "stdout",
     "output_type": "stream",
     "text": [
      "1 2 3 4 5 6 7 8 9 \n"
     ]
    }
   ],
   "source": [
    "trial(3)"
   ]
  },
  {
   "cell_type": "code",
   "execution_count": 3,
   "metadata": {},
   "outputs": [],
   "source": [
    "def bonus(number):\n",
    "    num_square = number**2\n",
    "    print(range(num_square))\n",
    "    for x in range(num_square):\n",
    "        print(x)"
   ]
  },
  {
   "cell_type": "code",
   "execution_count": 4,
   "metadata": {},
   "outputs": [
    {
     "name": "stdout",
     "output_type": "stream",
     "text": [
      "range(0, 9)\n",
      "0\n",
      "1\n",
      "2\n",
      "3\n",
      "4\n",
      "5\n",
      "6\n",
      "7\n",
      "8\n"
     ]
    }
   ],
   "source": [
    "bonus(3)"
   ]
  },
  {
   "cell_type": "code",
   "execution_count": 1,
   "metadata": {},
   "outputs": [],
   "source": [
    "def bonus(number):\n",
    "    num_square = number**2\n",
    "    numlist = range(num_square)\n",
    "\n",
    "    pattern_list = \"\"\n",
    "    \n",
    "    for n in numlist:\n",
    "        result = str(n)\n",
    "        pattern_list = pattern_list + result + \"\\n \"\n",
    "       \n",
    "    print(pattern_list)"
   ]
  },
  {
   "cell_type": "code",
   "execution_count": 2,
   "metadata": {},
   "outputs": [
    {
     "name": "stdout",
     "output_type": "stream",
     "text": [
      "0\n",
      " 1\n",
      " 2\n",
      " 3\n",
      " 4\n",
      " 5\n",
      " 6\n",
      " 7\n",
      " 8\n",
      " \n"
     ]
    }
   ],
   "source": [
    "bonus(3)"
   ]
  },
  {
   "cell_type": "code",
   "execution_count": 7,
   "metadata": {},
   "outputs": [],
   "source": [
    "def bonus(number):\n",
    "    num_square = number**2\n",
    "    numlist = range(num_square)\n",
    "\n",
    "    pattern_list = \"\"\n",
    "    \n",
    "    for index, n in enumerate (numlist):\n",
    "        print(index,n)"
   ]
  },
  {
   "cell_type": "code",
   "execution_count": 9,
   "metadata": {},
   "outputs": [
    {
     "name": "stdout",
     "output_type": "stream",
     "text": [
      "0 0\n",
      "1 1\n",
      "2 2\n",
      "3 3\n",
      "4 4\n",
      "5 5\n",
      "6 6\n",
      "7 7\n",
      "8 8\n"
     ]
    }
   ],
   "source": [
    "bonus(3)"
   ]
  },
  {
   "cell_type": "code",
   "execution_count": 61,
   "metadata": {},
   "outputs": [],
   "source": [
    "def bonus(number):\n",
    "    num_square = number**2\n",
    "    numlist = range(1,(num_square)+1)\n",
    "\n",
    "    pattern_list = \"\"\n",
    "    \n",
    "    median = (num_square+1)/2\n",
    "\n",
    "    for n in numlist:\n",
    "        div_test = n % number\n",
    "        result = str(n)\n",
    "        if (n == median):\n",
    "            print(\"M\")\n",
    "        else:\n",
    "            if (div_test ==0):\n",
    "                pattern_list = pattern_list + result + \"\\n \"\n",
    "            else:\n",
    "                pattern_list = pattern_list + result + \" \"\n",
    "       \n",
    "    print(pattern_list)\n",
    "\n",
    "\n"
   ]
  },
  {
   "cell_type": "code",
   "execution_count": 62,
   "metadata": {},
   "outputs": [
    {
     "name": "stdout",
     "output_type": "stream",
     "text": [
      "M\n",
      "1 2 3 4 5\n",
      " 6 7 8 9 10\n",
      " 11 12 14 15\n",
      " 16 17 18 19 20\n",
      " 21 22 23 24 25\n",
      " \n"
     ]
    }
   ],
   "source": [
    "bonus(5)"
   ]
  },
  {
   "cell_type": "code",
   "execution_count": 53,
   "metadata": {},
   "outputs": [],
   "source": [
    "def bonus(number):\n",
    "    num_square = number**2\n",
    "    numlist = range(1,(num_square)+1)\n",
    "\n",
    "    pattern_list = \"\"\n",
    "    \n",
    "    median = (num_square+1)/2\n",
    "\n",
    "    for n in numlist:\n",
    "        div_test = n % number\n",
    "        result = str(n)\n",
    "       \n",
    "        if (div_test ==0):\n",
    "            pattern_list = pattern_list + result + \"\\n \"\n",
    "        else:\n",
    "            pattern_list = pattern_list + result + \" \"\n",
    "            if (n == median):\n",
    "                print(\"O\")\n",
    "            else:\n",
    "                print(\"X\")\n",
    "       \n",
    "    print(pattern_list)\n"
   ]
  },
  {
   "cell_type": "code",
   "execution_count": 54,
   "metadata": {},
   "outputs": [
    {
     "name": "stdout",
     "output_type": "stream",
     "text": [
      "X\n",
      "X\n",
      "X\n",
      "X\n",
      "X\n",
      "X\n",
      "X\n",
      "X\n",
      "X\n",
      "X\n",
      "O\n",
      "X\n",
      "X\n",
      "X\n",
      "X\n",
      "X\n",
      "X\n",
      "X\n",
      "X\n",
      "X\n",
      "1 2 3 4 5\n",
      " 6 7 8 9 10\n",
      " 11 12 13 14 15\n",
      " 16 17 18 19 20\n",
      " 21 22 23 24 25\n",
      " \n"
     ]
    }
   ],
   "source": [
    "bonus(5)"
   ]
  },
  {
   "cell_type": "code",
   "execution_count": 63,
   "metadata": {},
   "outputs": [
    {
     "name": "stdout",
     "output_type": "stream",
     "text": [
      "12345\n",
      "678910\n",
      "1112131415\n",
      "1617181920\n",
      "2122232425\n",
      "\n"
     ]
    }
   ],
   "source": [
    "num = 5\n",
    "num_squared = num **2\n",
    "num_range = range(1, num_squared +1)\n",
    "\n",
    "num_str = \"\"\n",
    "\n",
    "for i in num_range:\n",
    "\n",
    "    num_str = num_str + str(i) + \"\"\n",
    "\n",
    "    if (i % 5 ==0):\n",
    "        num_str = num_str + \"\\n\"\n",
    "\n",
    "print(num_str)"
   ]
  },
  {
   "cell_type": "code",
   "execution_count": 20,
   "metadata": {},
   "outputs": [],
   "source": [
    "def bonus(number):\n",
    "    num_square = number**2\n",
    "    numlist = range(1,(num_square)+1)\n",
    "\n",
    "    pattern_list = \"\"\n",
    "    \n",
    "    median = int((num_square+1)/2)\n",
    "\n",
    "    print(median)\n",
    "\n",
    "    for n in numlist:\n",
    "        div_test = n % number\n",
    "        result = str(n)\n",
    "        if (number % 2 ==1):\n",
    "      \n",
    "            if (result == str(median)):\n",
    "                result = \"O\"\n",
    "            else:\n",
    "                result = \"X\"\n",
    "        else:\n",
    "            result = \"X\"\n",
    "        if (div_test ==0):\n",
    "            pattern_list = pattern_list + result + \"\\n \"\n",
    "        else:\n",
    "            pattern_list = pattern_list + result + \" \"\n",
    "       \n",
    "    print(pattern_list)\n"
   ]
  },
  {
   "cell_type": "code",
   "execution_count": 24,
   "metadata": {},
   "outputs": [
    {
     "name": "stdout",
     "output_type": "stream",
     "text": [
      "41\n",
      "X X X X X X X X X\n",
      " X X X X X X X X X\n",
      " X X X X X X X X X\n",
      " X X X X X X X X X\n",
      " X X X X O X X X X\n",
      " X X X X X X X X X\n",
      " X X X X X X X X X\n",
      " X X X X X X X X X\n",
      " X X X X X X X X X\n",
      " \n"
     ]
    }
   ],
   "source": [
    "bonus(9)"
   ]
  },
  {
   "cell_type": "code",
   "execution_count": null,
   "metadata": {},
   "outputs": [],
   "source": []
  }
 ],
 "metadata": {
  "kernelspec": {
   "display_name": "base",
   "language": "python",
   "name": "python3"
  },
  "language_info": {
   "codemirror_mode": {
    "name": "ipython",
    "version": 3
   },
   "file_extension": ".py",
   "mimetype": "text/x-python",
   "name": "python",
   "nbconvert_exporter": "python",
   "pygments_lexer": "ipython3",
   "version": "3.11.7"
  }
 },
 "nbformat": 4,
 "nbformat_minor": 2
}

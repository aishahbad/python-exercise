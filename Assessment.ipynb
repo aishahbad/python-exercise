{
 "cells": [
  {
   "cell_type": "code",
   "execution_count": 1,
   "metadata": {},
   "outputs": [],
   "source": [
    "#Q1-S1: Create function to takes in a number\n",
    "#Q1-S2: number % 2 ==1 to be return as True, False otherwise\n",
    "#Q2-S1: Create function to takes in a number\n",
    "#Q2-S2: number % 2 ==1 to be return as \"X\", \"O\" otherwise\n",
    "#Q3-S1: Create function to takes in a number\n",
    "#Q3-S2: number inputted in function to be read as a range \n",
    "#Q3-S3: number % 2 ==1 to be return as \"X\", \"O\" otherwise Loop all numbers in the range to return X or O\n",
    "#Q3-S4: all X and O need to be in same line (use + \"\" operator)\n",
    "#Q4-S1: \n"
   ]
  },
  {
   "cell_type": "code",
   "execution_count": 2,
   "metadata": {},
   "outputs": [],
   "source": [
    "#Question 1\n",
    "def is_odd(number):\n",
    "    result = number % 2 ==1\n",
    "    return(result)\n",
    "    "
   ]
  },
  {
   "cell_type": "code",
   "execution_count": 5,
   "metadata": {},
   "outputs": [],
   "source": [
    "#Question 2\n",
    "def pattern(number):\n",
    "    result = number % 2\n",
    "    if (result==1):\n",
    "        print (\"X\")\n",
    "    else:\n",
    "        print (\"O\")"
   ]
  },
  {
   "cell_type": "code",
   "execution_count": 18,
   "metadata": {},
   "outputs": [],
   "source": [
    "#Question 3\n",
    "def gen_pattern(number):\n",
    "    numlist = range(number)\n",
    "    for n in numlist:\n",
    "        print (number)\n",
    "     \n",
    "\n",
    "    "
   ]
  },
  {
   "cell_type": "code",
   "execution_count": 19,
   "metadata": {},
   "outputs": [
    {
     "name": "stdout",
     "output_type": "stream",
     "text": [
      "5\n",
      "5\n",
      "5\n",
      "5\n",
      "5\n"
     ]
    }
   ],
   "source": [
    "gen_pattern(5)"
   ]
  },
  {
   "cell_type": "code",
   "execution_count": null,
   "metadata": {},
   "outputs": [],
   "source": []
  }
 ],
 "metadata": {
  "kernelspec": {
   "display_name": "base",
   "language": "python",
   "name": "python3"
  },
  "language_info": {
   "codemirror_mode": {
    "name": "ipython",
    "version": 3
   },
   "file_extension": ".py",
   "mimetype": "text/x-python",
   "name": "python",
   "nbconvert_exporter": "python",
   "pygments_lexer": "ipython3",
   "version": "3.11.7"
  }
 },
 "nbformat": 4,
 "nbformat_minor": 2
}

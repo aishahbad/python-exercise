{
 "cells": [
  {
   "cell_type": "code",
   "execution_count": 1,
   "metadata": {},
   "outputs": [
    {
     "name": "stdout",
     "output_type": "stream",
     "text": [
      "2024-06-01 13:20:47.877256\n"
     ]
    }
   ],
   "source": [
    "import datetime\n",
    "\n",
    "x = datetime.datetime.now()\n",
    "\n",
    "print(x)"
   ]
  },
  {
   "cell_type": "code",
   "execution_count": 2,
   "metadata": {},
   "outputs": [],
   "source": [
    "# Assessment by Zubli\n",
    "#Q1 Step 1: Create a function that reads a number\n",
    "#Step 2: Create checking if number is odd or even\n",
    "#Step 3: return odd numbers as false, even numbers as true\n",
    "\n",
    "def is_odd(number):\n",
    "    print(number)"
   ]
  },
  {
   "cell_type": "code",
   "execution_count": 3,
   "metadata": {},
   "outputs": [
    {
     "name": "stdout",
     "output_type": "stream",
     "text": [
      "7\n"
     ]
    }
   ],
   "source": [
    "is_odd(7)"
   ]
  },
  {
   "cell_type": "code",
   "execution_count": 4,
   "metadata": {},
   "outputs": [],
   "source": [
    "def is_odd(number):\n",
    "    z = number%2\n",
    "    print(z)"
   ]
  },
  {
   "cell_type": "code",
   "execution_count": 5,
   "metadata": {},
   "outputs": [
    {
     "name": "stdout",
     "output_type": "stream",
     "text": [
      "1\n"
     ]
    }
   ],
   "source": [
    "is_odd(7)"
   ]
  },
  {
   "cell_type": "code",
   "execution_count": 6,
   "metadata": {},
   "outputs": [
    {
     "name": "stdout",
     "output_type": "stream",
     "text": [
      "0\n"
     ]
    }
   ],
   "source": [
    "is_odd(6)"
   ]
  },
  {
   "cell_type": "code",
   "execution_count": 10,
   "metadata": {},
   "outputs": [],
   "source": [
    "def is_odd(number):\n",
    "    z = number%2\n",
    "    if(z==1):  #if 1 = its assign, of 2== checking\n",
    "        return (\"odd - true\")\n",
    "    else:\n",
    "        return (\"even - false\")\n",
    "\n",
    "\n"
   ]
  },
  {
   "cell_type": "code",
   "execution_count": 11,
   "metadata": {},
   "outputs": [
    {
     "data": {
      "text/plain": [
       "'even - false'"
      ]
     },
     "execution_count": 11,
     "metadata": {},
     "output_type": "execute_result"
    }
   ],
   "source": [
    "is_odd(6)"
   ]
  },
  {
   "cell_type": "code",
   "execution_count": 14,
   "metadata": {},
   "outputs": [],
   "source": [
    "def is_odd(number):\n",
    "    z = number % 2 == 1\n",
    "    print(z)\n",
    "    # if(z==1):  #if 1 = its assign, of 2== checking\n",
    "    #     return (True)\n",
    "    # else:\n",
    "    #     return (False)"
   ]
  },
  {
   "cell_type": "code",
   "execution_count": 15,
   "metadata": {},
   "outputs": [
    {
     "name": "stdout",
     "output_type": "stream",
     "text": [
      "True\n"
     ]
    }
   ],
   "source": [
    "is_odd(7)"
   ]
  },
  {
   "cell_type": "code",
   "execution_count": 16,
   "metadata": {},
   "outputs": [
    {
     "name": "stdout",
     "output_type": "stream",
     "text": [
      "False\n"
     ]
    }
   ],
   "source": [
    "is_odd(6)"
   ]
  },
  {
   "cell_type": "code",
   "execution_count": 20,
   "metadata": {},
   "outputs": [],
   "source": [
    "def is_odd(number):\n",
    "    return number % 2 == 1\n",
    "    # return(z)"
   ]
  },
  {
   "cell_type": "code",
   "execution_count": 21,
   "metadata": {},
   "outputs": [
    {
     "data": {
      "text/plain": [
       "False"
      ]
     },
     "execution_count": 21,
     "metadata": {},
     "output_type": "execute_result"
    }
   ],
   "source": [
    "is_odd(6)"
   ]
  },
  {
   "cell_type": "code",
   "execution_count": 22,
   "metadata": {},
   "outputs": [
    {
     "name": "stdout",
     "output_type": "stream",
     "text": [
      "False\n"
     ]
    }
   ],
   "source": [
    "res = is_odd(6)\n",
    "print(res)"
   ]
  },
  {
   "cell_type": "code",
   "execution_count": 24,
   "metadata": {},
   "outputs": [],
   "source": [
    "#q2 step 1: Create a function that reads a number\n",
    "#step 2: check if number is odd or even \n",
    "#step 3: print \"X\" if number is odd, if even print \"O\"\n"
   ]
  },
  {
   "cell_type": "code",
   "execution_count": 25,
   "metadata": {},
   "outputs": [],
   "source": [
    "def pattern(number):\n",
    "    z = number % 2\n",
    "    if (z == 1):\n",
    "        print(\"X\")\n",
    "    else:\n",
    "        print(\"O\")\n",
    "        \n",
    "    \n",
    "    "
   ]
  },
  {
   "cell_type": "code",
   "execution_count": 26,
   "metadata": {},
   "outputs": [
    {
     "name": "stdout",
     "output_type": "stream",
     "text": [
      "O\n"
     ]
    }
   ],
   "source": [
    "pattern(6)"
   ]
  },
  {
   "cell_type": "code",
   "execution_count": 27,
   "metadata": {},
   "outputs": [
    {
     "name": "stdout",
     "output_type": "stream",
     "text": [
      "X\n"
     ]
    }
   ],
   "source": [
    "pattern(7)"
   ]
  },
  {
   "cell_type": "code",
   "execution_count": 28,
   "metadata": {},
   "outputs": [],
   "source": [
    "#q3 step 1: create a function that reads a number\n",
    "#step 2: the function should return the range of number \n",
    "#step 3: for each data in the range, function needs to print \"o\" for even number, \"X\" for odd numbers\n"
   ]
  },
  {
   "cell_type": "code",
   "execution_count": 29,
   "metadata": {},
   "outputs": [],
   "source": [
    "numlist = range(5)"
   ]
  },
  {
   "cell_type": "code",
   "execution_count": 30,
   "metadata": {},
   "outputs": [
    {
     "name": "stdout",
     "output_type": "stream",
     "text": [
      "range(0, 5)\n"
     ]
    }
   ],
   "source": [
    "print(numlist)"
   ]
  },
  {
   "cell_type": "code",
   "execution_count": 31,
   "metadata": {},
   "outputs": [
    {
     "name": "stdout",
     "output_type": "stream",
     "text": [
      "0\n",
      "1\n",
      "2\n",
      "3\n",
      "4\n"
     ]
    }
   ],
   "source": [
    "for n in numlist:\n",
    "  print(n)"
   ]
  },
  {
   "cell_type": "code",
   "execution_count": 32,
   "metadata": {},
   "outputs": [
    {
     "ename": "NameError",
     "evalue": "name 'number' is not defined",
     "output_type": "error",
     "traceback": [
      "\u001b[1;31m---------------------------------------------------------------------------\u001b[0m",
      "\u001b[1;31mNameError\u001b[0m                                 Traceback (most recent call last)",
      "Cell \u001b[1;32mIn[32], line 1\u001b[0m\n\u001b[1;32m----> 1\u001b[0m numlist \u001b[38;5;241m=\u001b[39m \u001b[38;5;28mrange\u001b[39m(number)\n\u001b[0;32m      2\u001b[0m \u001b[38;5;28;01mfor\u001b[39;00m n \u001b[38;5;129;01min\u001b[39;00m numlist:\n\u001b[0;32m      3\u001b[0m     \u001b[38;5;28mprint\u001b[39m(n)\n",
      "\u001b[1;31mNameError\u001b[0m: name 'number' is not defined"
     ]
    }
   ],
   "source": [
    "numlist = range(number)\n",
    "for n in numlist:\n",
    "    print(n)"
   ]
  },
  {
   "cell_type": "code",
   "execution_count": 33,
   "metadata": {},
   "outputs": [],
   "source": [
    "def generate_pattern(number):\n",
    "    numlist = range(number)\n",
    "    for n in numlist:\n",
    "        print(n)"
   ]
  },
  {
   "cell_type": "code",
   "execution_count": 34,
   "metadata": {},
   "outputs": [
    {
     "name": "stdout",
     "output_type": "stream",
     "text": [
      "0\n",
      "1\n",
      "2\n",
      "3\n",
      "4\n",
      "5\n"
     ]
    }
   ],
   "source": [
    "generate_pattern(6)"
   ]
  },
  {
   "cell_type": "code",
   "execution_count": 35,
   "metadata": {},
   "outputs": [],
   "source": [
    "def generate_pattern(number):\n",
    "    numlist = range(number)\n",
    "    for n in numlist:\n",
    "        z = n % 2\n",
    "        if (z == 1):\n",
    "            print(\"X\")\n",
    "        else:\n",
    "            print(\"O\")"
   ]
  },
  {
   "cell_type": "code",
   "execution_count": 36,
   "metadata": {},
   "outputs": [
    {
     "name": "stdout",
     "output_type": "stream",
     "text": [
      "O\n",
      "X\n",
      "O\n",
      "X\n",
      "O\n"
     ]
    }
   ],
   "source": [
    "generate_pattern(5)"
   ]
  },
  {
   "cell_type": "code",
   "execution_count": 37,
   "metadata": {},
   "outputs": [
    {
     "name": "stdout",
     "output_type": "stream",
     "text": [
      "O\n",
      "X\n",
      "O\n",
      "X\n",
      "O\n",
      "X\n",
      "O\n",
      "X\n",
      "O\n",
      "X\n"
     ]
    }
   ],
   "source": [
    "generate_pattern(10)"
   ]
  },
  {
   "cell_type": "code",
   "execution_count": 38,
   "metadata": {},
   "outputs": [],
   "source": [
    "def generate_pattern(number):\n",
    "    numlist = range(number)\n",
    "    for n in numlist:\n",
    "        z = number % 2\n",
    "        if (z == 1):\n",
    "            print(\"X\")\n",
    "        else:\n",
    "            print(\"O\")"
   ]
  },
  {
   "cell_type": "code",
   "execution_count": 39,
   "metadata": {},
   "outputs": [
    {
     "name": "stdout",
     "output_type": "stream",
     "text": [
      "X\n",
      "X\n",
      "X\n",
      "X\n",
      "X\n"
     ]
    }
   ],
   "source": [
    "generate_pattern(5) #All are Xs because function only takes number 5 divided by 2. It has 5 Xs because already specified the range of 5. "
   ]
  },
  {
   "cell_type": "code",
   "execution_count": 40,
   "metadata": {},
   "outputs": [],
   "source": [
    "def new_pattern(number):\n",
    "    z = number % 2\n",
    "    if (z == 1):\n",
    "        return(\"X\")\n",
    "    else:\n",
    "        return(\"O\")"
   ]
  },
  {
   "cell_type": "code",
   "execution_count": 46,
   "metadata": {},
   "outputs": [],
   "source": [
    "def generate_pattern(number):\n",
    "    numlist = range(number) #a list of all the numbers in the range ie 0,1,2,3,4 to n\n",
    "\n",
    "    pattern_list = \"\" #this creates empty string (box) to keep the result \n",
    "\n",
    "    for n in numlist:\n",
    "        res = new_pattern(n) # this defines X or O as \"res\" \n",
    "        pattern_list = pattern_list + res + \" \" # Initially pattern list is empty then add with 1st result of O\n",
    "        # then the next pattern list is O + the 2nd result ie X ; goes on in a loop until full range of number is completed\n",
    "\n",
    "    print(pattern_list)\n",
    "        "
   ]
  },
  {
   "cell_type": "code",
   "execution_count": 47,
   "metadata": {},
   "outputs": [
    {
     "name": "stdout",
     "output_type": "stream",
     "text": [
      "O X O X O \n"
     ]
    }
   ],
   "source": [
    "generate_pattern(5)"
   ]
  },
  {
   "cell_type": "code",
   "execution_count": 48,
   "metadata": {},
   "outputs": [],
   "source": [
    "#q4 step 1: create a function that reads a number\n",
    "# step 1: identify numbers that are Odd and Even"
   ]
  },
  {
   "cell_type": "code",
   "execution_count": 49,
   "metadata": {},
   "outputs": [
    {
     "name": "stdout",
     "output_type": "stream",
     "text": [
      "O X O X O \n"
     ]
    }
   ],
   "source": [
    "generate_pattern(5)"
   ]
  },
  {
   "cell_type": "code",
   "execution_count": 52,
   "metadata": {},
   "outputs": [],
   "source": [
    "def generate_boxpattern(number):\n",
    "    new_numlist = range(number)\n",
    "    for n in new_numlist:\n",
    "        # generate_pattern(number)\n",
    "        generate_pattern(n)\n",
    "    "
   ]
  },
  {
   "cell_type": "code",
   "execution_count": 53,
   "metadata": {},
   "outputs": [
    {
     "name": "stdout",
     "output_type": "stream",
     "text": [
      "\n",
      "O \n",
      "O X \n",
      "O X O \n",
      "O X O X \n"
     ]
    }
   ],
   "source": [
    "generate_boxpattern(5)"
   ]
  },
  {
   "cell_type": "code",
   "execution_count": 55,
   "metadata": {},
   "outputs": [],
   "source": [
    "def generate_boxpattern(number):\n",
    "    new_numlist = range(number)\n",
    "    for n in new_numlist:\n",
    "        \n",
    "        generate_pattern(number)"
   ]
  },
  {
   "cell_type": "code",
   "execution_count": 56,
   "metadata": {},
   "outputs": [
    {
     "name": "stdout",
     "output_type": "stream",
     "text": [
      "O X O X O \n",
      "O X O X O \n",
      "O X O X O \n",
      "O X O X O \n",
      "O X O X O \n"
     ]
    }
   ],
   "source": [
    "generate_boxpattern(5)"
   ]
  },
  {
   "cell_type": "code",
   "execution_count": 58,
   "metadata": {},
   "outputs": [],
   "source": [
    "def generate_boxpattern(number):\n",
    "    new_numlist = range(number)\n",
    "    for n in new_numlist:\n",
    "        # generate_pattern(number)\n",
    "        generate_pattern(n-1)\n",
    "    "
   ]
  },
  {
   "cell_type": "code",
   "execution_count": 59,
   "metadata": {},
   "outputs": [
    {
     "name": "stdout",
     "output_type": "stream",
     "text": [
      "\n",
      "\n",
      "O \n",
      "O X \n",
      "O X O \n"
     ]
    }
   ],
   "source": [
    "generate_boxpattern(5)"
   ]
  },
  {
   "cell_type": "code",
   "execution_count": 60,
   "metadata": {},
   "outputs": [],
   "source": [
    "def generate_boxpattern_new(number):\n",
    "    new_numlist = range(number)\n",
    "    for n in new_numlist:\n",
    "        print(n)\n",
    "        generate_pattern(number)"
   ]
  },
  {
   "cell_type": "code",
   "execution_count": 61,
   "metadata": {},
   "outputs": [
    {
     "name": "stdout",
     "output_type": "stream",
     "text": [
      "0\n",
      "O X O X O \n",
      "1\n",
      "O X O X O \n",
      "2\n",
      "O X O X O \n",
      "3\n",
      "O X O X O \n",
      "4\n",
      "O X O X O \n"
     ]
    }
   ],
   "source": [
    "generate_boxpattern_new(5)"
   ]
  },
  {
   "cell_type": "code",
   "execution_count": 62,
   "metadata": {},
   "outputs": [],
   "source": [
    "def new_pattern_alt(number):\n",
    "        z = number % 2\n",
    "        if (z == 1):\n",
    "            return(\"O\")\n",
    "        else:\n",
    "            return(\"X\")\n",
    "\n",
    "def generate_pattern_alt(number): \n",
    "        \n",
    "    numlist = range(number) #a list of all the numbers in the range ie 0,1,2,3,4 to n\n",
    "\n",
    "    pattern_list = \"\" #this creates empty string (box) to keep the result \n",
    "\n",
    "    for n in numlist:\n",
    "        res = new_pattern_alt(n) # this defines X or O as \"res\" \n",
    "        pattern_list = pattern_list + res + \" \" # Initially pattern list is empty then add with 1st result of O\n",
    "        # then the next pattern list is O + the 2nd result ie X ; goes on in a loop until full range of number is completed\n",
    "\n",
    "    print(pattern_list)"
   ]
  },
  {
   "cell_type": "code",
   "execution_count": 68,
   "metadata": {},
   "outputs": [],
   "source": [
    "def generate_boxpattern_new_alt(number):\n",
    "    new_numlist = range(number)\n",
    "    for n in new_numlist:\n",
    "        if n % 2 ==1:\n",
    "            generate_pattern(number)\n",
    "        else:\n",
    "            generate_pattern_alt(number)"
   ]
  },
  {
   "cell_type": "code",
   "execution_count": 69,
   "metadata": {},
   "outputs": [
    {
     "name": "stdout",
     "output_type": "stream",
     "text": [
      "X O X O X \n",
      "O X O X O \n",
      "X O X O X \n",
      "O X O X O \n",
      "X O X O X \n"
     ]
    }
   ],
   "source": [
    "generate_boxpattern_new_alt(5)"
   ]
  },
  {
   "cell_type": "code",
   "execution_count": null,
   "metadata": {},
   "outputs": [],
   "source": []
  }
 ],
 "metadata": {
  "kernelspec": {
   "display_name": "base",
   "language": "python",
   "name": "python3"
  },
  "language_info": {
   "codemirror_mode": {
    "name": "ipython",
    "version": 3
   },
   "file_extension": ".py",
   "mimetype": "text/x-python",
   "name": "python",
   "nbconvert_exporter": "python",
   "pygments_lexer": "ipython3",
   "version": "3.11.7"
  }
 },
 "nbformat": 4,
 "nbformat_minor": 2
}
